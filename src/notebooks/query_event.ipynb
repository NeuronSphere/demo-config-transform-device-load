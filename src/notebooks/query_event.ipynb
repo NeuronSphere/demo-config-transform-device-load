{
  "cells": [
    {
      "cell_type": "code",
      "execution_count": 1,
      "metadata": {
        "collapsed": false,
        "jupyter": {
          "outputs_hidden": false,
          "source_hidden": false
        },
        "nteract": {
          "transient": {
            "deleting": false
          }
        },
        "tags": []
      },
      "outputs": [],
      "source": [
        "import hmd_lib_notebook_magics.cluster_management\n",
        "%load_ext hmd_lib_notebook_magics.cluster_management"
      ]
    },
    {
      "cell_type": "code",
      "execution_count": 2,
      "metadata": {
        "collapsed": false,
        "jupyter": {
          "outputs_hidden": false,
          "source_hidden": false
        },
        "nteract": {
          "transient": {
            "deleting": false
          }
        },
        "tags": []
      },
      "outputs": [
        {
          "name": "stdout",
          "output_type": "stream",
          "text": [
            "trino://admin@trino:8081/hive\n",
            "Using local override: trino://admin@trino:8081/hive\n"
          ]
        }
      ],
      "source": [
        "cluster_conn = 'trino://trino-clst-spot:trino-1/hive?protocol=https'\n",
        "local_trino = 'trino://admin@trino:8081/hive'\n",
        "\n",
        "# Need for Trino databases\n",
        "%config NSClusterMagics.autocommit=False\n",
        "\n",
        "# the local override must come first\n",
        "%local_cluster_override {cluster_conn} {local_trino}\n",
        "%nscluster {cluster_conn}"
      ]
    },
    {
      "cell_type": "code",
      "execution_count": null,
      "metadata": {},
      "outputs": [],
      "source": [
        "%%sql\n",
        "SHOW SCHEMAS"
      ]
    },
    {
      "cell_type": "code",
      "execution_count": 31,
      "metadata": {},
      "outputs": [
        {
          "name": "stdout",
          "output_type": "stream",
          "text": [
            " * trino://admin@trino:8081/hive\n",
            "Done.\n"
          ]
        },
        {
          "data": {
            "text/html": [
              "<table>\n",
              "    <tr>\n",
              "        <th>rows</th>\n",
              "    </tr>\n",
              "    <tr>\n",
              "        <td>None</td>\n",
              "    </tr>\n",
              "</table>"
            ],
            "text/plain": [
              "[(None,)]"
            ]
          },
          "execution_count": 31,
          "metadata": {},
          "output_type": "execute_result"
        }
      ],
      "source": [
        "%%sql\n",
        "SELECT * FROM demo_ux.event_0_1_1 LIMIT 100"
      ]
    },
    {
      "cell_type": "code",
      "execution_count": null,
      "metadata": {},
      "outputs": [],
      "source": [
        "%%sql\n",
        "SELECT * FROM demo_ux.telemetry_0_1_1 LIMIT 100"
      ]
    }
  ],
  "metadata": {
    "kernelspec": {
      "display_name": "Python 3 (ipykernel)",
      "language": "python",
      "name": "python3"
    },
    "language_info": {
      "codemirror_mode": {
        "name": "ipython",
        "version": 3
      },
      "file_extension": ".py",
      "mimetype": "text/x-python",
      "name": "python",
      "nbconvert_exporter": "python",
      "pygments_lexer": "ipython3",
      "version": "3.10.9"
    }
  },
  "nbformat": 4,
  "nbformat_minor": 4
}
